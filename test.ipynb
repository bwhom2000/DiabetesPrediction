{
 "cells": [
  {
   "cell_type": "code",
   "execution_count": 13,
   "metadata": {},
   "outputs": [],
   "source": [
    "import pandas as pd\n",
    "from sklearn.model_selection import train_test_split"
   ]
  },
  {
   "cell_type": "code",
   "execution_count": 4,
   "metadata": {},
   "outputs": [],
   "source": [
    "def load_data(path):\n",
    "    data = pd.read_csv(path)\n",
    "    return data"
   ]
  },
  {
   "cell_type": "code",
   "execution_count": 5,
   "metadata": {},
   "outputs": [],
   "source": [
    "path = 'data/diabetes_prediction_dataset.csv'"
   ]
  },
  {
   "cell_type": "code",
   "execution_count": null,
   "metadata": {},
   "outputs": [],
   "source": []
  },
  {
   "cell_type": "code",
   "execution_count": 8,
   "metadata": {},
   "outputs": [],
   "source": [
    "data = load_data(path)"
   ]
  },
  {
   "cell_type": "code",
   "execution_count": 41,
   "metadata": {},
   "outputs": [],
   "source": [
    "def process_and_split_data(data, cols_to_encode, target_name, test_size, random_seed):\n",
    "    encoded_data = pd.get_dummies(data, columns=cols_to_encode, drop_first=True)\n",
    "\n",
    "    X = encoded_data.drop(columns=[target_name])\n",
    "    y = encoded_data[target_name]\n",
    "\n",
    "    X_train, X_test, y_train, y_test = train_test_split(\n",
    "        X, y,\n",
    "        test_size=test_size,\n",
    "        random_state=random_seed\n",
    "    )\n",
    "\n",
    "    train_data = pd.concat([X_train, y_train], axis=1)\n",
    "    test_data = pd.concat([X_test, y_test], axis=1)\n",
    "\n",
    "    return train_data, test_data\n"
   ]
  },
  {
   "cell_type": "code",
   "execution_count": 42,
   "metadata": {},
   "outputs": [],
   "source": [
    "def save_data(train_new, test_new, train_name, test_name):\n",
    "    train_new.to_csv(train_name, index=False)\n",
    "    test_new.to_csv(test_name, index=False)"
   ]
  },
  {
   "cell_type": "code",
   "execution_count": 31,
   "metadata": {},
   "outputs": [],
   "source": [
    "save_data(train_data, test_data, 'data/processed_train_data.csv', 'data/processed_test_data.csv')"
   ]
  },
  {
   "cell_type": "code",
   "execution_count": 32,
   "metadata": {},
   "outputs": [],
   "source": [
    "import yaml"
   ]
  },
  {
   "cell_type": "code",
   "execution_count": 33,
   "metadata": {},
   "outputs": [],
   "source": [
    "params = yaml.safe_load(open(\"params.yaml\"))"
   ]
  },
  {
   "cell_type": "code",
   "execution_count": 43,
   "metadata": {},
   "outputs": [],
   "source": [
    "params = yaml.safe_load(open(\"params.yaml\"))\n",
    "split_params = params[\"split\"]\n",
    "encoding_params = params[\"encoding\"]\n",
    "target_params = params[\"target\"]\n",
    "\n",
    "dataset_path = split_params[\"dataset_path\"]\n",
    "cols_to_encode = encoding_params[\"columns\"]\n",
    "target_name = target_params[\"name\"]\n",
    "test_size = split_params[\"test_size\"]\n",
    "random_seed = split_params[\"random_seed\"]\n",
    "\n"
   ]
  },
  {
   "cell_type": "code",
   "execution_count": 47,
   "metadata": {},
   "outputs": [],
   "source": [
    "data = load_data(dataset_path)\n",
    "train_dataset, test_dataset = process_and_split_data(data, cols_to_encode, target_name, test_size, random_seed)\n",
    "save_data(train_dataset, test_dataset, 'data/processed_train_data.csv', 'data/processed_test_data.csv')"
   ]
  },
  {
   "cell_type": "code",
   "execution_count": null,
   "metadata": {},
   "outputs": [],
   "source": []
  }
 ],
 "metadata": {
  "kernelspec": {
   "display_name": "mlops",
   "language": "python",
   "name": "python3"
  },
  "language_info": {
   "codemirror_mode": {
    "name": "ipython",
    "version": 3
   },
   "file_extension": ".py",
   "mimetype": "text/x-python",
   "name": "python",
   "nbconvert_exporter": "python",
   "pygments_lexer": "ipython3",
   "version": "3.12.4"
  }
 },
 "nbformat": 4,
 "nbformat_minor": 2
}
